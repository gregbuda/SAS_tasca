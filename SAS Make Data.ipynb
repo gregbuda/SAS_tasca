{
 "cells": [
  {
   "cell_type": "code",
   "execution_count": 64,
   "id": "fb427b19",
   "metadata": {},
   "outputs": [],
   "source": [
    "import pandas as pd\n",
    "import numpy as np"
   ]
  },
  {
   "cell_type": "code",
   "execution_count": 65,
   "id": "b5495053",
   "metadata": {},
   "outputs": [],
   "source": [
    "#Read relevant tables\n",
    "#Hogar: Description of the households\n",
    "#Gasto: Detailed description of spending of each household\n",
    "hogar=pd.read_csv('EPFhogar_2021.csv', sep='\\t')\n",
    "gasto=pd.read_csv('EPFgastos_2021.csv', sep='\\t')"
   ]
  },
  {
   "cell_type": "code",
   "execution_count": 66,
   "id": "1376c150",
   "metadata": {},
   "outputs": [],
   "source": [
    "#Keep repelvant columns\n",
    "hogar=hogar[['NUMERO','CCAA','NMIEM5','IMPEXAC']]"
   ]
  },
  {
   "cell_type": "code",
   "execution_count": 67,
   "id": "f883f8b8",
   "metadata": {},
   "outputs": [],
   "source": [
    "#Make income annual\n",
    "hogar.IMPEXAC=hogar.IMPEXAC*12"
   ]
  },
  {
   "cell_type": "code",
   "execution_count": 68,
   "id": "5d609dbe",
   "metadata": {},
   "outputs": [],
   "source": [
    "#Make the number of underage into a binary variable of wether there's underage\n",
    "hogar.NMIEM5=np.sign(hogar.NMIEM5)"
   ]
  },
  {
   "cell_type": "code",
   "execution_count": 69,
   "id": "4b59de60",
   "metadata": {},
   "outputs": [
    {
     "data": {
      "text/plain": [
       "0    13640\n",
       "1     5754\n",
       "Name: NMIEM5, dtype: int64"
      ]
     },
     "execution_count": 69,
     "metadata": {},
     "output_type": "execute_result"
    }
   ],
   "source": [
    "hogar.NMIEM5.value_counts()"
   ]
  },
  {
   "cell_type": "code",
   "execution_count": 70,
   "id": "4cf57dbf",
   "metadata": {},
   "outputs": [],
   "source": [
    "#The spent values are in inflated version (multiplied by the demographic weights). Divide again to get to real family spending\n",
    "gasto['spending']=gasto['GASTO']/gasto['FACTOR']"
   ]
  },
  {
   "cell_type": "code",
   "execution_count": 71,
   "id": "bfe28ff3",
   "metadata": {},
   "outputs": [],
   "source": [
    "#Get the 2--digit product category (COICOP)\n",
    "gasto['COICOP']=gasto.CODIGO.astype(str).str[:2]"
   ]
  },
  {
   "cell_type": "code",
   "execution_count": 72,
   "id": "1a53a0d0",
   "metadata": {},
   "outputs": [],
   "source": [
    "#Make 4 spending categories by grouping COICOPs\n",
    "gasto['Category']=np.where(gasto.COICOP.isin(['01','02','11']),'food',\n",
    "                          np.where(gasto.COICOP.isin(['04','05']),'housing',\n",
    "                                  np.where(gasto.COICOP.isin(['07']), 'transport','other')))"
   ]
  },
  {
   "cell_type": "code",
   "execution_count": 73,
   "id": "2554b685",
   "metadata": {},
   "outputs": [],
   "source": [
    "#Pivot for spending in 4 categories for each family\n",
    "aggregate=pd.pivot_table(gasto, values='spending', index=['NUMERO'],\n",
    "                    columns=['Category'], aggfunc=np.sum)"
   ]
  },
  {
   "cell_type": "code",
   "execution_count": 74,
   "id": "7d04b260",
   "metadata": {},
   "outputs": [],
   "source": [
    "aggregate=aggregate.fillna(0)"
   ]
  },
  {
   "cell_type": "code",
   "execution_count": 75,
   "id": "121a84b7",
   "metadata": {},
   "outputs": [],
   "source": [
    "hogar=hogar.merge(aggregate.reset_index(),on='NUMERO', how='left')"
   ]
  },
  {
   "cell_type": "code",
   "execution_count": 76,
   "id": "a90147a6",
   "metadata": {},
   "outputs": [],
   "source": [
    "hogar.columns=['hogar_id','ccaa','menor','ingreso','alimento','vivienda','otro','transporte']"
   ]
  },
  {
   "cell_type": "code",
   "execution_count": 78,
   "id": "fd3f6528",
   "metadata": {},
   "outputs": [],
   "source": [
    "hogar.to_csv('SAS_hogares_2021.csv',index=False)"
   ]
  },
  {
   "cell_type": "code",
   "execution_count": 79,
   "id": "88fcad83",
   "metadata": {},
   "outputs": [
    {
     "data": {
      "text/html": [
       "<div>\n",
       "<style scoped>\n",
       "    .dataframe tbody tr th:only-of-type {\n",
       "        vertical-align: middle;\n",
       "    }\n",
       "\n",
       "    .dataframe tbody tr th {\n",
       "        vertical-align: top;\n",
       "    }\n",
       "\n",
       "    .dataframe thead th {\n",
       "        text-align: right;\n",
       "    }\n",
       "</style>\n",
       "<table border=\"1\" class=\"dataframe\">\n",
       "  <thead>\n",
       "    <tr style=\"text-align: right;\">\n",
       "      <th></th>\n",
       "      <th>hogar_id</th>\n",
       "      <th>ccaa</th>\n",
       "      <th>menor</th>\n",
       "      <th>ingreso</th>\n",
       "      <th>alimento</th>\n",
       "      <th>vivienda</th>\n",
       "      <th>otro</th>\n",
       "      <th>transporte</th>\n",
       "    </tr>\n",
       "  </thead>\n",
       "  <tbody>\n",
       "    <tr>\n",
       "      <th>0</th>\n",
       "      <td>1</td>\n",
       "      <td>8</td>\n",
       "      <td>0</td>\n",
       "      <td>9384</td>\n",
       "      <td>1511.768669</td>\n",
       "      <td>4436.358398</td>\n",
       "      <td>355.999998</td>\n",
       "      <td>0.000000</td>\n",
       "    </tr>\n",
       "    <tr>\n",
       "      <th>1</th>\n",
       "      <td>2</td>\n",
       "      <td>3</td>\n",
       "      <td>0</td>\n",
       "      <td>15396</td>\n",
       "      <td>4862.049060</td>\n",
       "      <td>8622.876213</td>\n",
       "      <td>2133.019522</td>\n",
       "      <td>0.000000</td>\n",
       "    </tr>\n",
       "    <tr>\n",
       "      <th>2</th>\n",
       "      <td>3</td>\n",
       "      <td>5</td>\n",
       "      <td>0</td>\n",
       "      <td>22320</td>\n",
       "      <td>7545.543648</td>\n",
       "      <td>7341.991905</td>\n",
       "      <td>4284.857830</td>\n",
       "      <td>3711.480046</td>\n",
       "    </tr>\n",
       "    <tr>\n",
       "      <th>3</th>\n",
       "      <td>4</td>\n",
       "      <td>11</td>\n",
       "      <td>0</td>\n",
       "      <td>16200</td>\n",
       "      <td>2683.471194</td>\n",
       "      <td>4314.946813</td>\n",
       "      <td>4599.522104</td>\n",
       "      <td>0.000000</td>\n",
       "    </tr>\n",
       "    <tr>\n",
       "      <th>4</th>\n",
       "      <td>5</td>\n",
       "      <td>10</td>\n",
       "      <td>0</td>\n",
       "      <td>14472</td>\n",
       "      <td>8037.463035</td>\n",
       "      <td>7966.047788</td>\n",
       "      <td>2337.196691</td>\n",
       "      <td>0.000000</td>\n",
       "    </tr>\n",
       "    <tr>\n",
       "      <th>...</th>\n",
       "      <td>...</td>\n",
       "      <td>...</td>\n",
       "      <td>...</td>\n",
       "      <td>...</td>\n",
       "      <td>...</td>\n",
       "      <td>...</td>\n",
       "      <td>...</td>\n",
       "      <td>...</td>\n",
       "    </tr>\n",
       "    <tr>\n",
       "      <th>19389</th>\n",
       "      <td>19390</td>\n",
       "      <td>11</td>\n",
       "      <td>1</td>\n",
       "      <td>9936</td>\n",
       "      <td>3276.342246</td>\n",
       "      <td>3229.199104</td>\n",
       "      <td>3624.898126</td>\n",
       "      <td>3499.652799</td>\n",
       "    </tr>\n",
       "    <tr>\n",
       "      <th>19390</th>\n",
       "      <td>19391</td>\n",
       "      <td>8</td>\n",
       "      <td>0</td>\n",
       "      <td>14256</td>\n",
       "      <td>3810.710503</td>\n",
       "      <td>4193.611686</td>\n",
       "      <td>1178.382301</td>\n",
       "      <td>0.000000</td>\n",
       "    </tr>\n",
       "    <tr>\n",
       "      <th>19391</th>\n",
       "      <td>19392</td>\n",
       "      <td>9</td>\n",
       "      <td>0</td>\n",
       "      <td>21132</td>\n",
       "      <td>3654.975616</td>\n",
       "      <td>18317.921157</td>\n",
       "      <td>2962.964186</td>\n",
       "      <td>1921.639222</td>\n",
       "    </tr>\n",
       "    <tr>\n",
       "      <th>19392</th>\n",
       "      <td>19393</td>\n",
       "      <td>8</td>\n",
       "      <td>1</td>\n",
       "      <td>40440</td>\n",
       "      <td>12145.067082</td>\n",
       "      <td>8843.762109</td>\n",
       "      <td>14029.869121</td>\n",
       "      <td>30445.323783</td>\n",
       "    </tr>\n",
       "    <tr>\n",
       "      <th>19393</th>\n",
       "      <td>19394</td>\n",
       "      <td>9</td>\n",
       "      <td>0</td>\n",
       "      <td>27324</td>\n",
       "      <td>10199.954231</td>\n",
       "      <td>12359.323280</td>\n",
       "      <td>3266.397332</td>\n",
       "      <td>0.000000</td>\n",
       "    </tr>\n",
       "  </tbody>\n",
       "</table>\n",
       "<p>19394 rows × 8 columns</p>\n",
       "</div>"
      ],
      "text/plain": [
       "       hogar_id  ccaa  menor  ingreso      alimento      vivienda  \\\n",
       "0             1     8      0     9384   1511.768669   4436.358398   \n",
       "1             2     3      0    15396   4862.049060   8622.876213   \n",
       "2             3     5      0    22320   7545.543648   7341.991905   \n",
       "3             4    11      0    16200   2683.471194   4314.946813   \n",
       "4             5    10      0    14472   8037.463035   7966.047788   \n",
       "...         ...   ...    ...      ...           ...           ...   \n",
       "19389     19390    11      1     9936   3276.342246   3229.199104   \n",
       "19390     19391     8      0    14256   3810.710503   4193.611686   \n",
       "19391     19392     9      0    21132   3654.975616  18317.921157   \n",
       "19392     19393     8      1    40440  12145.067082   8843.762109   \n",
       "19393     19394     9      0    27324  10199.954231  12359.323280   \n",
       "\n",
       "               otro    transporte  \n",
       "0        355.999998      0.000000  \n",
       "1       2133.019522      0.000000  \n",
       "2       4284.857830   3711.480046  \n",
       "3       4599.522104      0.000000  \n",
       "4       2337.196691      0.000000  \n",
       "...             ...           ...  \n",
       "19389   3624.898126   3499.652799  \n",
       "19390   1178.382301      0.000000  \n",
       "19391   2962.964186   1921.639222  \n",
       "19392  14029.869121  30445.323783  \n",
       "19393   3266.397332      0.000000  \n",
       "\n",
       "[19394 rows x 8 columns]"
      ]
     },
     "execution_count": 79,
     "metadata": {},
     "output_type": "execute_result"
    }
   ],
   "source": [
    "hogar"
   ]
  },
  {
   "cell_type": "code",
   "execution_count": null,
   "id": "82746fb9",
   "metadata": {},
   "outputs": [],
   "source": []
  }
 ],
 "metadata": {
  "kernelspec": {
   "display_name": "Python 3 (ipykernel)",
   "language": "python",
   "name": "python3"
  },
  "language_info": {
   "codemirror_mode": {
    "name": "ipython",
    "version": 3
   },
   "file_extension": ".py",
   "mimetype": "text/x-python",
   "name": "python",
   "nbconvert_exporter": "python",
   "pygments_lexer": "ipython3",
   "version": "3.9.12"
  }
 },
 "nbformat": 4,
 "nbformat_minor": 5
}
